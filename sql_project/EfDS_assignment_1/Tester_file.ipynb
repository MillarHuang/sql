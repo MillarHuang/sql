{
 "cells": [
  {
   "cell_type": "code",
   "execution_count": 1,
   "id": "5ed64982",
   "metadata": {},
   "outputs": [],
   "source": [
    "from sqlalchemy import create_engine\n",
    "from sqlalchemy.orm import sessionmaker\n",
    "from GradeDB import *\n",
    "from random import random \n",
    "import lorem\n",
    "#pip install names\n",
    "import names"
   ]
  },
  {
   "cell_type": "code",
   "execution_count": 2,
   "id": "d56da32b",
   "metadata": {},
   "outputs": [],
   "source": [
    "engine = create_engine(\"sqlite:///GradeDB.db\", echo=False)\n",
    "sessionMaker= sessionmaker(bind=engine)"
   ]
  },
  {
   "cell_type": "code",
   "execution_count": 3,
   "id": "b9c7898e",
   "metadata": {},
   "outputs": [],
   "source": [
    "grade_db= GradeDB('GradeDB.db')"
   ]
  },
  {
   "cell_type": "code",
   "execution_count": 4,
   "id": "58c6e825",
   "metadata": {
    "scrolled": true
   },
   "outputs": [
    {
     "name": "stdout",
     "output_type": "stream",
     "text": [
      "First name: Lester, Last name: Johnson, Email address: Lester.Johnson@university.edu\n",
      "First name: Ernest, Last name: Hooks, Email address: Ernest.Hooks@university.edu\n",
      "First name: Teresa, Last name: Ater, Email address: Teresa.Ater@university.edu\n",
      "First name: Douglas, Last name: Wick, Email address: Douglas.Wick@university.edu\n",
      "First name: Timothy, Last name: Brown, Email address: Timothy.Brown@university.edu\n",
      "First name: Clarence, Last name: Guerrero, Email address: Clarence.Guerrero@university.edu\n"
     ]
    }
   ],
   "source": [
    "for i in range(5,11):\n",
    "    first_name,last_name  = names.get_full_name().split()\n",
    "    email_address = first_name+'.'+last_name+'@university.edu'\n",
    "    university_id = 's' + str(i+1)\n",
    "    print(\"First name: %3s, Last name: %2s, Email address: %1s\" % (first_name, last_name, email_address))\n",
    "    grade_db.add_student(university_id, first_name,last_name, email_address)"
   ]
  },
  {
   "cell_type": "code",
   "execution_count": 5,
   "id": "2688bfcb",
   "metadata": {},
   "outputs": [],
   "source": [
    "for i in range(5):\n",
    "    title = lorem.sentence()\n",
    "    text  = lorem.paragraph()\n",
    "    grade_db.add_question(title,text)"
   ]
  },
  {
   "cell_type": "code",
   "execution_count": 6,
   "id": "72c3a3eb",
   "metadata": {},
   "outputs": [],
   "source": [
    "with sessionMaker() as Katrin: \n",
    "    qr = Katrin.query(Question).limit(3)\n",
    "    quest_test1 = [q for q in qr]\n",
    "\n",
    "    idx = (0, -2,-1)\n",
    "    quest_test2 = [Katrin.query(Question).all()[i] for i in idx]\n",
    "\n",
    "with sessionMaker() as Katie:\n",
    "    task1= grade_db.add_task(\"task1\",\"text1\",quest_test1)\n",
    "    \n",
    "    task2= grade_db.add_task(\"task2\",\"text2\",quest_test2)\n"
   ]
  },
  {
   "cell_type": "code",
   "execution_count": 7,
   "id": "c11165c2",
   "metadata": {},
   "outputs": [
    {
     "name": "stdout",
     "output_type": "stream",
     "text": [
      "[Task(task_id=1, title=task1), Task(task_id=2, title=task2)]\n"
     ]
    }
   ],
   "source": [
    "with sessionMaker() as Strassen:\n",
    "    tasks = Strassen.query(Task).all()\n",
    "    print(tasks[0].questions[0].tasks)"
   ]
  },
  {
   "cell_type": "code",
   "execution_count": 8,
   "id": "debda167",
   "metadata": {},
   "outputs": [
    {
     "name": "stdout",
     "output_type": "stream",
     "text": [
      "1\n"
     ]
    }
   ],
   "source": [
    "with sessionMaker() as Lindefjeld:\n",
    "    student=Lindefjeld.query(Student).all()[0]\n",
    "    task = Lindefjeld.query(Task).all()[0]\n",
    "    print(grade_db.add_assignment(student,task))"
   ]
  },
  {
   "cell_type": "code",
   "execution_count": null,
   "id": "21d3f9cc",
   "metadata": {},
   "outputs": [],
   "source": []
  }
 ],
 "metadata": {
  "kernelspec": {
   "display_name": "Python 3 (ipykernel)",
   "language": "python",
   "name": "python3"
  },
  "language_info": {
   "codemirror_mode": {
    "name": "ipython",
    "version": 3
   },
   "file_extension": ".py",
   "mimetype": "text/x-python",
   "name": "python",
   "nbconvert_exporter": "python",
   "pygments_lexer": "ipython3",
   "version": "3.9.7"
  }
 },
 "nbformat": 4,
 "nbformat_minor": 5
}
