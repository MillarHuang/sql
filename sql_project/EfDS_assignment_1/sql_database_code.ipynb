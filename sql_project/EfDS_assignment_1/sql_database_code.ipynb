{
 "cells": [
  {
   "cell_type": "code",
   "execution_count": 2,
   "metadata": {},
   "outputs": [
    {
     "ename": "ImportError",
     "evalue": "cannot import name 'declarative_base' from 'sqlalchemy.orm' (C:\\Users\\86999\\Anaconda3\\lib\\site-packages\\sqlalchemy\\orm\\__init__.py)",
     "output_type": "error",
     "traceback": [
      "\u001b[1;31m---------------------------------------------------------------------------\u001b[0m",
      "\u001b[1;31mImportError\u001b[0m                               Traceback (most recent call last)",
      "\u001b[1;32m<ipython-input-2-756c5a600b8c>\u001b[0m in \u001b[0;36m<module>\u001b[1;34m\u001b[0m\n\u001b[0;32m      1\u001b[0m \u001b[1;32mfrom\u001b[0m \u001b[0msqlalchemy\u001b[0m \u001b[1;32mimport\u001b[0m \u001b[0mcreate_engine\u001b[0m\u001b[1;33m,\u001b[0m \u001b[0mColumn\u001b[0m\u001b[1;33m,\u001b[0m \u001b[0mInteger\u001b[0m\u001b[1;33m,\u001b[0m \u001b[0mString\u001b[0m\u001b[1;33m,\u001b[0m \u001b[0mForeignKey\u001b[0m\u001b[1;33m,\u001b[0m \u001b[0mMetaData\u001b[0m\u001b[1;33m,\u001b[0m \u001b[0mBoolean\u001b[0m\u001b[1;33m,\u001b[0m \u001b[0mTable\u001b[0m\u001b[1;33m,\u001b[0m \u001b[0mDateTime\u001b[0m\u001b[1;33m,\u001b[0m \u001b[0mFloat\u001b[0m\u001b[1;33m\u001b[0m\u001b[1;33m\u001b[0m\u001b[0m\n\u001b[1;32m----> 2\u001b[1;33m \u001b[1;32mfrom\u001b[0m \u001b[0msqlalchemy\u001b[0m\u001b[1;33m.\u001b[0m\u001b[0morm\u001b[0m \u001b[1;32mimport\u001b[0m \u001b[0mrelationship\u001b[0m\u001b[1;33m,\u001b[0m \u001b[0mdeclarative_base\u001b[0m\u001b[1;33m,\u001b[0m \u001b[0msessionmaker\u001b[0m\u001b[1;33m,\u001b[0m \u001b[0mbackref\u001b[0m\u001b[1;33m\u001b[0m\u001b[1;33m\u001b[0m\u001b[0m\n\u001b[0m\u001b[0;32m      3\u001b[0m \u001b[1;32mimport\u001b[0m \u001b[0mlorem\u001b[0m\u001b[1;33m\u001b[0m\u001b[1;33m\u001b[0m\u001b[0m\n\u001b[0;32m      4\u001b[0m \u001b[1;32mimport\u001b[0m \u001b[0mnames\u001b[0m\u001b[1;33m\u001b[0m\u001b[1;33m\u001b[0m\u001b[0m\n",
      "\u001b[1;31mImportError\u001b[0m: cannot import name 'declarative_base' from 'sqlalchemy.orm' (C:\\Users\\86999\\Anaconda3\\lib\\site-packages\\sqlalchemy\\orm\\__init__.py)"
     ]
    }
   ],
   "source": [
    "from sqlalchemy import create_engine, Column, Integer, String, ForeignKey, MetaData, Boolean, Table, DateTime, Float\n",
    "from sqlalchemy.orm import relationship, declarative_base, sessionmaker, backref\n",
    "import lorem\n",
    "import names"
   ]
  },
  {
   "cell_type": "markdown",
   "metadata": {},
   "source": [
    "# Create Database\n",
    "\n",
    "load ipython-sql\n",
    "create db connection"
   ]
  },
  {
   "cell_type": "code",
   "execution_count": 1,
   "metadata": {},
   "outputs": [],
   "source": [
    "%load_ext sql\n",
    "%sql sqlite:///GradeDB.db1"
   ]
  },
  {
   "cell_type": "markdown",
   "metadata": {},
   "source": [
    "### students-table"
   ]
  },
  {
   "cell_type": "code",
   "execution_count": 3,
   "metadata": {},
   "outputs": [
    {
     "name": "stdout",
     "output_type": "stream",
     "text": [
      " * sqlite:///GradeDB.db\n",
      "Done.\n"
     ]
    },
    {
     "data": {
      "text/plain": [
       "[]"
      ]
     },
     "execution_count": 3,
     "metadata": {},
     "output_type": "execute_result"
    }
   ],
   "source": [
    "%%sql\n",
    "CREATE TABLE IF NOT EXISTS students (\n",
    "   university_id TEXT PRIMARY KEY,\n",
    "   first_name TEXT NOT NULL,\n",
    "   last_name TEXT NOT NULL,\n",
    "   email TEXT NOT NULL UNIQUE\n",
    ")"
   ]
  },
  {
   "cell_type": "markdown",
   "metadata": {},
   "source": [
    "### questions-table"
   ]
  },
  {
   "cell_type": "code",
   "execution_count": 4,
   "metadata": {},
   "outputs": [
    {
     "name": "stdout",
     "output_type": "stream",
     "text": [
      " * sqlite:///GradeDB.db\n",
      "Done.\n"
     ]
    },
    {
     "data": {
      "text/plain": [
       "[]"
      ]
     },
     "execution_count": 4,
     "metadata": {},
     "output_type": "execute_result"
    }
   ],
   "source": [
    "%%sql\n",
    "CREATE TABLE IF NOT EXISTS questions (\n",
    "   question_id INTEGER PRIMARY KEY,\n",
    "   title TEXT NOT NULL UNIQUE,\n",
    "   text TEXT NOT NULL UNIQUE,\n",
    "   max_score INTEGER\n",
    ")"
   ]
  },
  {
   "cell_type": "markdown",
   "metadata": {},
   "source": [
    "### tasks-table"
   ]
  },
  {
   "cell_type": "code",
   "execution_count": 5,
   "metadata": {},
   "outputs": [
    {
     "name": "stdout",
     "output_type": "stream",
     "text": [
      " * sqlite:///GradeDB.db\n",
      "Done.\n"
     ]
    },
    {
     "data": {
      "text/plain": [
       "[]"
      ]
     },
     "execution_count": 5,
     "metadata": {},
     "output_type": "execute_result"
    }
   ],
   "source": [
    "%%sql\n",
    "CREATE TABLE IF NOT EXISTS tasks (\n",
    "   task_id INTEGER PRIMARY KEY,\n",
    "   title TEXT NOT NULL,\n",
    "   text TEXT NOT NULL\n",
    ")"
   ]
  },
  {
   "cell_type": "markdown",
   "metadata": {},
   "source": [
    "### allocate_questions-table"
   ]
  },
  {
   "cell_type": "code",
   "execution_count": 6,
   "metadata": {},
   "outputs": [
    {
     "name": "stdout",
     "output_type": "stream",
     "text": [
      " * sqlite:///GradeDB.db\n",
      "Done.\n"
     ]
    },
    {
     "data": {
      "text/plain": [
       "[]"
      ]
     },
     "execution_count": 6,
     "metadata": {},
     "output_type": "execute_result"
    }
   ],
   "source": [
    "%%sql\n",
    "CREATE TABLE IF NOT EXISTS allocate_questions(\n",
    "   question_id INTEGER NOT NULL,\n",
    "   task_id INTEGER NOT NULL,\n",
    "   PRIMARY KEY (question_id, task_id),\n",
    "   FOREIGN KEY (question_id) \n",
    "      REFERENCES questions (question_id) \n",
    "         ON DELETE CASCADE \n",
    "         ON UPDATE NO ACTION,\n",
    "   FOREIGN KEY (task_id) \n",
    "      REFERENCES tasks (task_id) \n",
    "         ON DELETE CASCADE \n",
    "         ON UPDATE NO ACTION\n",
    ")"
   ]
  },
  {
   "cell_type": "markdown",
   "metadata": {},
   "source": [
    "### assignments table"
   ]
  },
  {
   "cell_type": "code",
   "execution_count": 7,
   "metadata": {},
   "outputs": [
    {
     "name": "stdout",
     "output_type": "stream",
     "text": [
      " * sqlite:///GradeDB.db\n",
      "Done.\n"
     ]
    },
    {
     "data": {
      "text/plain": [
       "[]"
      ]
     },
     "execution_count": 7,
     "metadata": {},
     "output_type": "execute_result"
    }
   ],
   "source": [
    "%%sql\n",
    "CREATE TABLE IF NOT EXISTS assignments (\n",
    "   assignment_id INTEGER PRIMARY KEY,\n",
    "   university_id STRING NOT NULL,\n",
    "   task_id INTEGER NOT NULL,\n",
    "   submission BOOLEAN,\n",
    "   FOREIGN KEY (university_id)\n",
    "      REFERENCES students (university_id)\n",
    "         ON DELETE CASCADE\n",
    "         ON UPDATE NO ACTION,\n",
    "   FOREIGN KEY (task_id)\n",
    "      REFERENCES tasks (task_id)\n",
    "         ON DELETE CASCADE\n",
    "         ON UPDATE NO ACTION\n",
    ")"
   ]
  },
  {
   "cell_type": "markdown",
   "metadata": {},
   "source": [
    "### answers-table"
   ]
  },
  {
   "cell_type": "code",
   "execution_count": 8,
   "metadata": {},
   "outputs": [
    {
     "name": "stdout",
     "output_type": "stream",
     "text": [
      " * sqlite:///GradeDB.db\n",
      "Done.\n"
     ]
    },
    {
     "data": {
      "text/plain": [
       "[]"
      ]
     },
     "execution_count": 8,
     "metadata": {},
     "output_type": "execute_result"
    }
   ],
   "source": [
    "%%sql\n",
    "CREATE TABLE IF NOT EXISTS answers (\n",
    "    answer_id INTEGER PRIMARY KEY,\n",
    "    submission_id INTEGER,\n",
    "    question_id INTEGER, \n",
    "    text TEXT,\n",
    "    FOREIGN KEY(submission_id)\n",
    "        REFERENCES submissions (submission_id)\n",
    "            ON DELETE CASCADE\n",
    "            ON UPDATE NO ACTION,\n",
    "    FOREIGN KEY(question_id)\n",
    "        REFERENCES questions (question_id)\n",
    "            ON DELETE CASCADE\n",
    "            ON UPDATE NO ACTION\n",
    ")"
   ]
  },
  {
   "cell_type": "markdown",
   "metadata": {},
   "source": [
    "### submissions-table"
   ]
  },
  {
   "cell_type": "code",
   "execution_count": 9,
   "metadata": {},
   "outputs": [
    {
     "name": "stdout",
     "output_type": "stream",
     "text": [
      " * sqlite:///GradeDB.db\n",
      "Done.\n"
     ]
    },
    {
     "data": {
      "text/plain": [
       "[]"
      ]
     },
     "execution_count": 9,
     "metadata": {},
     "output_type": "execute_result"
    }
   ],
   "source": [
    "%%sql\n",
    "CREATE TABLE IF NOT EXISTS submissions (\n",
    "    submission_id INTEGER PRIMARY KEY,\n",
    "    assignment_id INTEGER,\n",
    "    last_modified DATETIME, \n",
    "    FOREIGN KEY(assignment_id)\n",
    "        REFERENCES assignments (assignment_id)\n",
    "            ON DELETE CASCADE\n",
    "            ON UPDATE NO ACTION\n",
    ")"
   ]
  },
  {
   "cell_type": "markdown",
   "metadata": {},
   "source": [
    "### evaluation_requests-table"
   ]
  },
  {
   "cell_type": "code",
   "execution_count": 10,
   "metadata": {},
   "outputs": [
    {
     "name": "stdout",
     "output_type": "stream",
     "text": [
      " * sqlite:///GradeDB.db\n",
      "Done.\n"
     ]
    },
    {
     "data": {
      "text/plain": [
       "[]"
      ]
     },
     "execution_count": 10,
     "metadata": {},
     "output_type": "execute_result"
    }
   ],
   "source": [
    "%%sql\n",
    "CREATE TABLE IF NOT EXISTS evaluation_requests (\n",
    "    evaluation_request_id INTEGER PRIMARY KEY,\n",
    "    submission_id INTEGER,\n",
    "    date DATETIME, \n",
    "    FOREIGN KEY(submission_id)\n",
    "        REFERENCES submissions (submission_id)\n",
    "            ON DELETE CASCADE\n",
    "            ON UPDATE NO ACTION\n",
    ")"
   ]
  },
  {
   "cell_type": "markdown",
   "metadata": {},
   "source": [
    "### evaluations-table"
   ]
  },
  {
   "cell_type": "code",
   "execution_count": 11,
   "metadata": {},
   "outputs": [
    {
     "name": "stdout",
     "output_type": "stream",
     "text": [
      " * sqlite:///GradeDB.db\n",
      "Done.\n"
     ]
    },
    {
     "data": {
      "text/plain": [
       "[]"
      ]
     },
     "execution_count": 11,
     "metadata": {},
     "output_type": "execute_result"
    }
   ],
   "source": [
    "%%sql\n",
    "CREATE TABLE IF NOT EXISTS evaluations (\n",
    "    evaluation_id INTEGER PRIMARY KEY,\n",
    "    evaluation_request_id INTEGER, \n",
    "    date DATETIME,\n",
    "    grade FLOAT,\n",
    "    FOREIGN KEY(evaluation_request_id)\n",
    "        REFERENCES evaluation_requests (evaluation_request_id)\n",
    "            ON DELETE CASCADE\n",
    "            ON UPDATE NO ACTION\n",
    ")"
   ]
  },
  {
   "cell_type": "markdown",
   "metadata": {},
   "source": [
    "### scores-table"
   ]
  },
  {
   "cell_type": "code",
   "execution_count": 12,
   "metadata": {},
   "outputs": [
    {
     "name": "stdout",
     "output_type": "stream",
     "text": [
      " * sqlite:///GradeDB.db\n",
      "Done.\n"
     ]
    },
    {
     "data": {
      "text/plain": [
       "[]"
      ]
     },
     "execution_count": 12,
     "metadata": {},
     "output_type": "execute_result"
    }
   ],
   "source": [
    "%%sql\n",
    "CREATE TABLE IF NOT EXISTS scores (\n",
    "    score_id INTEGER PRIMARY KEY,\n",
    "    evaluation_id INTEGER, \n",
    "    answer_id INTEGER,\n",
    "    value INTEGER,\n",
    "    FOREIGN KEY(evaluation_id)\n",
    "        REFERENCES evaluations (evaluation_id)\n",
    "            ON DELETE CASCADE\n",
    "            ON UPDATE NO ACTION\n",
    ")"
   ]
  },
  {
   "cell_type": "markdown",
   "metadata": {},
   "source": [
    "### evaluation_finished-table"
   ]
  },
  {
   "cell_type": "code",
   "execution_count": 13,
   "metadata": {},
   "outputs": [
    {
     "name": "stdout",
     "output_type": "stream",
     "text": [
      " * sqlite:///GradeDB.db\n",
      "Done.\n"
     ]
    },
    {
     "data": {
      "text/plain": [
       "[]"
      ]
     },
     "execution_count": 13,
     "metadata": {},
     "output_type": "execute_result"
    }
   ],
   "source": [
    "%%sql\n",
    "CREATE TABLE IF NOT EXISTS evaluation_finished (\n",
    "    evaluation_finished_id INTEGER PRIMARY KEY,\n",
    "    evaluation_id INTEGER,\n",
    "    date DATETIME,\n",
    "    FOREIGN KEY(evaluation_id)\n",
    "        REFERENCES evaluations (evaluation_id)\n",
    "            ON DELETE CASCADE\n",
    "            ON UPDATE NO ACTION\n",
    ")"
   ]
  }
 ],
 "metadata": {
  "kernelspec": {
   "display_name": "Python 3",
   "language": "python",
   "name": "python3"
  },
  "language_info": {
   "codemirror_mode": {
    "name": "ipython",
    "version": 3
   },
   "file_extension": ".py",
   "mimetype": "text/x-python",
   "name": "python",
   "nbconvert_exporter": "python",
   "pygments_lexer": "ipython3",
   "version": "3.8.8"
  }
 },
 "nbformat": 4,
 "nbformat_minor": 4
}
