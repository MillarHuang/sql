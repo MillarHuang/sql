{
 "cells": [
  {
   "cell_type": "code",
   "execution_count": 1,
   "id": "c1d6563a",
   "metadata": {},
   "outputs": [],
   "source": [
    "from sqlalchemy import *\n",
    "#engine = create_engine('sqlite:///')\n",
    "\n",
    "metadata_obj = MetaData()"
   ]
  },
  {
   "cell_type": "code",
   "execution_count": null,
   "id": "9633ba96",
   "metadata": {},
   "outputs": [],
   "source": [
    "students = Table('students', metadata_obj,\n",
    "    Column('employee_id', Integer, primary_key=True),\n",
    "    Column('employee_name', String(60), nullable=False),\n",
    "    Column('employee_dept', Integer, ForeignKey(\"departments.department_id\"))\n",
    ")"
   ]
  },
  {
   "cell_type": "code",
   "execution_count": 2,
   "id": "1cbd5c84",
   "metadata": {},
   "outputs": [
    {
     "data": {
      "text/plain": [
       "MetaData()"
      ]
     },
     "execution_count": 2,
     "metadata": {},
     "output_type": "execute_result"
    }
   ],
   "source": [
    "allocate_questions = Table('allocate_questions', metadata_obj,\n",
    "    Column('task_id', Integer, nullable=False, primary_key=True),\n",
    "    Column('', String(16), nullable=False),\n",
    "    Column('email_address', String(60)),\n",
    "    Column('nickname', String(50), nullable=False)\n",
    ")"
   ]
  }
 ],
 "metadata": {
  "kernelspec": {
   "display_name": "Python 3 (ipykernel)",
   "language": "python",
   "name": "python3"
  },
  "language_info": {
   "codemirror_mode": {
    "name": "ipython",
    "version": 3
   },
   "file_extension": ".py",
   "mimetype": "text/x-python",
   "name": "python",
   "nbconvert_exporter": "python",
   "pygments_lexer": "ipython3",
   "version": "3.9.7"
  }
 },
 "nbformat": 4,
 "nbformat_minor": 5
}
